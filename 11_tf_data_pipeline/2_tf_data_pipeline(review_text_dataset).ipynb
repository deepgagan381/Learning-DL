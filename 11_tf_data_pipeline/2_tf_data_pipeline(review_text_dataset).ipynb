{
 "cells": [
  {
   "cell_type": "markdown",
   "metadata": {},
   "source": [
    "Read the review dataset using tf.data.Dataset and perform following transformations,\n",
    "\n",
    "1. Read text review and generate a label from folder name. your dataset should have review text and label as a tuple\n",
    "2. Filter blank text review. Two files are blank in this dataset\n",
    "3. Do all of the above transformations in single line of code. Also shuffle all the reviews"
   ]
  },
  {
   "cell_type": "code",
   "execution_count": 4,
   "metadata": {},
   "outputs": [],
   "source": [
    "import tensorflow as tf\n",
    "import numpy as np"
   ]
  },
  {
   "cell_type": "code",
   "execution_count": 2,
   "metadata": {},
   "outputs": [],
   "source": [
    "reviews_ds = tf.data.Dataset.list_files('./reviews/*/*', shuffle=False)"
   ]
  },
  {
   "cell_type": "code",
   "execution_count": 3,
   "metadata": {},
   "outputs": [
    {
     "data": {
      "text/plain": [
       "6"
      ]
     },
     "execution_count": 3,
     "metadata": {},
     "output_type": "execute_result"
    }
   ],
   "source": [
    "count = len(reviews_ds)\n",
    "count"
   ]
  },
  {
   "cell_type": "code",
   "execution_count": 5,
   "metadata": {},
   "outputs": [
    {
     "name": "stdout",
     "output_type": "stream",
     "text": [
      "b'.\\\\reviews\\\\negative\\\\neg_1.txt'\n",
      "b'.\\\\reviews\\\\negative\\\\neg_2.txt'\n",
      "b'.\\\\reviews\\\\negative\\\\neg_3.txt'\n",
      "b'.\\\\reviews\\\\positive\\\\pos_1.txt'\n",
      "b'.\\\\reviews\\\\positive\\\\pos_2.txt'\n",
      "b'.\\\\reviews\\\\positive\\\\pos_3.txt'\n"
     ]
    }
   ],
   "source": [
    "for review in reviews_ds:\n",
    "    print(review.numpy())"
   ]
  },
  {
   "cell_type": "code",
   "execution_count": 6,
   "metadata": {},
   "outputs": [
    {
     "name": "stdout",
     "output_type": "stream",
     "text": [
      "b'.\\\\reviews\\\\positive\\\\pos_1.txt'\n",
      "b'.\\\\reviews\\\\negative\\\\neg_3.txt'\n",
      "b'.\\\\reviews\\\\positive\\\\pos_2.txt'\n",
      "b'.\\\\reviews\\\\positive\\\\pos_3.txt'\n",
      "b'.\\\\reviews\\\\negative\\\\neg_1.txt'\n",
      "b'.\\\\reviews\\\\negative\\\\neg_2.txt'\n"
     ]
    }
   ],
   "source": [
    "reviews_ds = reviews_ds.shuffle(4)\n",
    "for review in reviews_ds:\n",
    "    print(review.numpy())"
   ]
  },
  {
   "cell_type": "code",
   "execution_count": 11,
   "metadata": {},
   "outputs": [],
   "source": [
    "import os\n",
    "\n",
    "def get_reviews_and_label(path):\n",
    "    label = tf.strings.split(path, os.path.sep)[-2]\n",
    "    data = tf.io.read_file(path)\n",
    "    return  data, label"
   ]
  },
  {
   "cell_type": "code",
   "execution_count": 13,
   "metadata": {},
   "outputs": [],
   "source": [
    "df = reviews_ds.map(get_reviews_and_label)"
   ]
  },
  {
   "cell_type": "code",
   "execution_count": 15,
   "metadata": {},
   "outputs": [
    {
     "name": "stdout",
     "output_type": "stream",
     "text": [
      "Review:  b\"One of the other reviewers has mentioned that after watching just 1 Oz episode you'll be hooked. The\"\n",
      "Label:  b'positive'\n",
      "Review:  b''\n",
      "Label:  b'negative'\n",
      "Review:  b\"Basically there's a family where a little boy (Jake) thinks there's a zombie in his closet & his par\"\n",
      "Label:  b'negative'\n",
      "Review:  b\"This show was an amazing, fresh & innovative idea in the 70's when it first aired. The first 7 or 8 \"\n",
      "Label:  b'negative'\n",
      "Review:  b'A wonderful little production. <br /><br />The filming technique is very unassuming- very old-time-B'\n",
      "Label:  b'positive'\n",
      "Review:  b''\n",
      "Label:  b'positive'\n"
     ]
    }
   ],
   "source": [
    "for data, label in df:\n",
    "    print(\"Review: \", data.numpy()[:100])\n",
    "    print(\"Label: \", label.numpy())"
   ]
  },
  {
   "cell_type": "code",
   "execution_count": 17,
   "metadata": {},
   "outputs": [
    {
     "name": "stdout",
     "output_type": "stream",
     "text": [
      "Review:  b\"This show was an amazing, fresh & innovative idea in the 70's when it first aired. The first 7 or 8 \"\n",
      "Label:  b'negative'\n",
      "Review:  b'A wonderful little production. <br /><br />The filming technique is very unassuming- very old-time-B'\n",
      "Label:  b'positive'\n",
      "Review:  b\"One of the other reviewers has mentioned that after watching just 1 Oz episode you'll be hooked. The\"\n",
      "Label:  b'positive'\n",
      "Review:  b\"Basically there's a family where a little boy (Jake) thinks there's a zombie in his closet & his par\"\n",
      "Label:  b'negative'\n"
     ]
    }
   ],
   "source": [
    "'''\n",
    "Filtering the blank reviews\n",
    "'''\n",
    "df1 = df.filter(lambda review, label: review!=\"\")\n",
    "for data, label in df1:\n",
    "    print(\"Review: \", data.numpy()[:100])\n",
    "    print(\"Label: \", label.numpy())"
   ]
  },
  {
   "cell_type": "code",
   "execution_count": 21,
   "metadata": {},
   "outputs": [
    {
     "name": "stdout",
     "output_type": "stream",
     "text": [
      "Review:  b\"Basically there's a family where a little boy (Jake) thinks there's a zombie in his closet & his parents are fighting all the time.<br /><br />This mo\"\n",
      "Label:  b'negative'\n",
      "Review:  b'A wonderful little production. <br /><br />The filming technique is very unassuming- very old-time-BBC fashion and gives a comforting, and sometimes d'\n",
      "Label:  b'positive'\n",
      "Review:  b\"One of the other reviewers has mentioned that after watching just 1 Oz episode you'll be hooked. They are right, as this is exactly what happened with\"\n",
      "Label:  b'positive'\n",
      "Review:  b\"This show was an amazing, fresh & innovative idea in the 70's when it first aired. The first 7 or 8 years were brilliant, but things dropped off after\"\n",
      "Label:  b'negative'\n"
     ]
    }
   ],
   "source": [
    "'''\n",
    "In Single line of code\n",
    "'''\n",
    "final_ds = reviews_ds.map(get_reviews_and_label).filter(lambda rew, lab: rew!=\"\").shuffle(3)\n",
    "\n",
    "for data, label in final_ds:\n",
    "    print(\"Review: \", data.numpy()[:150])\n",
    "    print(\"Label: \", label.numpy())"
   ]
  },
  {
   "cell_type": "code",
   "execution_count": null,
   "metadata": {},
   "outputs": [],
   "source": []
  }
 ],
 "metadata": {
  "kernelspec": {
   "display_name": "Python 3.9.0 64-bit",
   "language": "python",
   "name": "python3"
  },
  "language_info": {
   "codemirror_mode": {
    "name": "ipython",
    "version": 3
   },
   "file_extension": ".py",
   "mimetype": "text/x-python",
   "name": "python",
   "nbconvert_exporter": "python",
   "pygments_lexer": "ipython3",
   "version": "3.9.0"
  },
  "orig_nbformat": 4,
  "vscode": {
   "interpreter": {
    "hash": "5b3baee9e35d4db22f6d5a2f20af5cc213f37b770f0c2f6a6a9db9c386166091"
   }
  }
 },
 "nbformat": 4,
 "nbformat_minor": 2
}
