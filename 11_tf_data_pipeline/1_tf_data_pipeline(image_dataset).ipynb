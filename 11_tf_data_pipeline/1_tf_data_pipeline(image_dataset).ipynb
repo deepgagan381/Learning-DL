{
 "cells": [
  {
   "cell_type": "code",
   "execution_count": 1,
   "metadata": {},
   "outputs": [],
   "source": [
    "import tensorflow as tf"
   ]
  },
  {
   "cell_type": "code",
   "execution_count": 2,
   "metadata": {},
   "outputs": [],
   "source": [
    "daily_sales_numbers = [21, 22, -108, 31, -1, 32, 34,31]"
   ]
  },
  {
   "cell_type": "code",
   "execution_count": 3,
   "metadata": {},
   "outputs": [
    {
     "data": {
      "text/plain": [
       "<TensorSliceDataset element_spec=TensorSpec(shape=(), dtype=tf.int32, name=None)>"
      ]
     },
     "execution_count": 3,
     "metadata": {},
     "output_type": "execute_result"
    }
   ],
   "source": [
    "# creating a tf dataset from list\n",
    "\n",
    "tf_dataset = tf.data.Dataset.from_tensor_slices(daily_sales_numbers)\n",
    "tf_dataset"
   ]
  },
  {
   "cell_type": "code",
   "execution_count": 4,
   "metadata": {},
   "outputs": [
    {
     "name": "stdout",
     "output_type": "stream",
     "text": [
      "21\n",
      "22\n",
      "-108\n",
      "31\n",
      "-1\n",
      "32\n",
      "34\n",
      "31\n"
     ]
    }
   ],
   "source": [
    "# itration through tf dataset\n",
    "for sales in tf_dataset:\n",
    "    print(sales.numpy())"
   ]
  },
  {
   "cell_type": "code",
   "execution_count": 5,
   "metadata": {},
   "outputs": [
    {
     "name": "stdout",
     "output_type": "stream",
     "text": [
      "21\n",
      "22\n",
      "-108\n",
      "31\n",
      "-1\n",
      "32\n",
      "34\n",
      "31\n"
     ]
    }
   ],
   "source": [
    "for sales in tf_dataset.as_numpy_iterator():\n",
    "    print(sales)"
   ]
  },
  {
   "cell_type": "code",
   "execution_count": 6,
   "metadata": {},
   "outputs": [
    {
     "name": "stdout",
     "output_type": "stream",
     "text": [
      "21\n",
      "22\n",
      "-108\n",
      "31\n",
      "-1\n"
     ]
    }
   ],
   "source": [
    "for sales in tf_dataset.take(5):\n",
    "    print(sales.numpy())"
   ]
  },
  {
   "cell_type": "code",
   "execution_count": 7,
   "metadata": {},
   "outputs": [
    {
     "name": "stdout",
     "output_type": "stream",
     "text": [
      "WARNING:tensorflow:From c:\\Users\\gagan\\AppData\\Local\\Programs\\Python\\Python310\\lib\\site-packages\\tensorflow\\python\\autograph\\pyct\\static_analysis\\liveness.py:83: Analyzer.lamba_check (from tensorflow.python.autograph.pyct.static_analysis.liveness) is deprecated and will be removed after 2023-09-23.\n",
      "Instructions for updating:\n",
      "Lambda fuctions will be no more assumed to be used in the statement where they are used, or at least in the same block. https://github.com/tensorflow/tensorflow/issues/56089\n",
      "21\n",
      "22\n",
      "31\n",
      "32\n",
      "34\n",
      "31\n"
     ]
    }
   ],
   "source": [
    "tf_dataset=tf_dataset.filter(lambda x: x>0)\n",
    "\n",
    "for sales in tf_dataset:\n",
    "    print(sales.numpy())"
   ]
  },
  {
   "cell_type": "code",
   "execution_count": 8,
   "metadata": {},
   "outputs": [
    {
     "name": "stdout",
     "output_type": "stream",
     "text": [
      "1680\n",
      "1760\n",
      "2480\n",
      "2560\n",
      "2720\n",
      "2480\n"
     ]
    }
   ],
   "source": [
    "# Convert sales numbers from USA dollars ($) to Indian Rupees (INR) Assuming 1->80 conversation rate\n",
    "tf_dataset = tf_dataset.map(lambda x: x*80)\n",
    "for sales in tf_dataset.as_numpy_iterator():\n",
    "    print(sales)"
   ]
  },
  {
   "cell_type": "code",
   "execution_count": 9,
   "metadata": {},
   "outputs": [
    {
     "name": "stdout",
     "output_type": "stream",
     "text": [
      "1760\n",
      "2480\n",
      "2720\n",
      "1680\n",
      "2480\n",
      "2560\n"
     ]
    }
   ],
   "source": [
    "tf_dataset = tf_dataset.shuffle(3)\n",
    "for sales in tf_dataset.as_numpy_iterator():\n",
    "    print(sales)"
   ]
  },
  {
   "cell_type": "code",
   "execution_count": 10,
   "metadata": {},
   "outputs": [
    {
     "name": "stdout",
     "output_type": "stream",
     "text": [
      "[1760 2560]\n",
      "[2480 1680]\n",
      "[2480 2720]\n"
     ]
    }
   ],
   "source": [
    "for sales_batch in tf_dataset.batch(2):\n",
    "    print(sales_batch.numpy())"
   ]
  },
  {
   "cell_type": "code",
   "execution_count": 11,
   "metadata": {},
   "outputs": [
    {
     "name": "stdout",
     "output_type": "stream",
     "text": [
      "[1760 2480]\n",
      "[2560 2720]\n",
      "[1680 2480]\n"
     ]
    }
   ],
   "source": [
    "tf_dataset = tf.data.Dataset.from_tensor_slices(daily_sales_numbers)\n",
    "\n",
    "tf_dataset = tf_dataset.filter(lambda x: x>0).map(lambda y: y*80).shuffle(2).batch(2)\n",
    "\n",
    "for sales in tf_dataset.as_numpy_iterator():\n",
    "    print(sales)"
   ]
  },
  {
   "cell_type": "markdown",
   "metadata": {},
   "source": [
    "<b style=\"color:lightgreen\"><i>Applying the above operations on Image dataset</i></b>"
   ]
  },
  {
   "cell_type": "code",
   "execution_count": 12,
   "metadata": {},
   "outputs": [],
   "source": [
    "images = tf.data.Dataset.list_files('./images/*/*', shuffle=False)"
   ]
  },
  {
   "cell_type": "code",
   "execution_count": 13,
   "metadata": {},
   "outputs": [
    {
     "data": {
      "text/plain": [
       "130"
      ]
     },
     "execution_count": 13,
     "metadata": {},
     "output_type": "execute_result"
    }
   ],
   "source": [
    "img_count = len(images)\n",
    "img_count"
   ]
  },
  {
   "cell_type": "code",
   "execution_count": 14,
   "metadata": {},
   "outputs": [
    {
     "data": {
      "text/plain": [
       "tensorflow.python.data.ops.from_tensor_slices_op.TensorSliceDataset"
      ]
     },
     "execution_count": 14,
     "metadata": {},
     "output_type": "execute_result"
    }
   ],
   "source": [
    "type(images)"
   ]
  },
  {
   "cell_type": "code",
   "execution_count": 15,
   "metadata": {},
   "outputs": [
    {
     "name": "stdout",
     "output_type": "stream",
     "text": [
      "b'.\\\\images\\\\cat\\\\20 Reasons Why Cats Make the Best Pets....jpg'\n",
      "b'.\\\\images\\\\cat\\\\7 Foods Your Cat Can_t Eat.jpg'\n",
      "b'.\\\\images\\\\cat\\\\A cat appears to have caught the....jpg'\n",
      "b'.\\\\images\\\\cat\\\\Adopt-A-Cat Month\\xc2\\xae - American Humane....jpg'\n",
      "b'.\\\\images\\\\cat\\\\All About Your Cat_s Tongue.jpg'\n"
     ]
    }
   ],
   "source": [
    "for img in images.take(5):\n",
    "    print(img.numpy())"
   ]
  },
  {
   "cell_type": "code",
   "execution_count": 16,
   "metadata": {},
   "outputs": [
    {
     "name": "stdout",
     "output_type": "stream",
     "text": [
      "b'.\\\\images\\\\dog\\\\Great Dane - Wikipedia.jpg'\n",
      "b'.\\\\images\\\\dog\\\\Welcoming Your Adopted Dog Into Your....jpg'\n",
      "b'.\\\\images\\\\dog\\\\List of dog breeds - Wikipedia.jpg'\n",
      "b'.\\\\images\\\\dog\\\\Canine Mind....jpg'\n",
      "b'.\\\\images\\\\dog\\\\Mood-Boosting Benefits of Pets....jpg'\n"
     ]
    }
   ],
   "source": [
    "images = images.shuffle(130)\n",
    "\n",
    "for img in images.take(5):\n",
    "    print(img.numpy())"
   ]
  },
  {
   "cell_type": "code",
   "execution_count": 17,
   "metadata": {},
   "outputs": [],
   "source": [
    "classes = ['Cat', 'Dog']"
   ]
  },
  {
   "cell_type": "code",
   "execution_count": 18,
   "metadata": {},
   "outputs": [],
   "source": [
    "train_size = int(img_count*0.8)\n",
    "train_ds = images.take(train_size)\n",
    "test_ds = images.skip(train_size)"
   ]
  },
  {
   "cell_type": "code",
   "execution_count": 19,
   "metadata": {},
   "outputs": [
    {
     "data": {
      "text/plain": [
       "(104, 26)"
      ]
     },
     "execution_count": 19,
     "metadata": {},
     "output_type": "execute_result"
    }
   ],
   "source": [
    "len(train_ds), len(test_ds)"
   ]
  },
  {
   "cell_type": "code",
   "execution_count": 20,
   "metadata": {},
   "outputs": [],
   "source": [
    "import os\n",
    "\n",
    "def get_class_label(path):\n",
    "    parts = tf.strings.split(path, os.path.sep)\n",
    "    return parts[-2]"
   ]
  },
  {
   "cell_type": "code",
   "execution_count": 21,
   "metadata": {},
   "outputs": [
    {
     "data": {
      "text/plain": [
       "<tf.Tensor: shape=(), dtype=string, numpy=b'dog'>"
      ]
     },
     "execution_count": 21,
     "metadata": {},
     "output_type": "execute_result"
    }
   ],
   "source": [
    "get_class_label(\".\\\\images\\\\dog\\\\Hong Kong dog causes panic \\xe2\\x80\\x93 but here_s... (1).jpg\")"
   ]
  },
  {
   "cell_type": "code",
   "execution_count": 22,
   "metadata": {},
   "outputs": [],
   "source": [
    "def image_processing(path):\n",
    "    class_label=get_class_label(path)\n",
    "    \n",
    "    img = tf.io.read_file(path)\n",
    "    img = tf.image.decode_jpeg(img)\n",
    "    img = tf.image.resize(img, [128, 128])\n",
    "    \n",
    "    return img, class_label"
   ]
  },
  {
   "cell_type": "code",
   "execution_count": 23,
   "metadata": {},
   "outputs": [
    {
     "name": "stdout",
     "output_type": "stream",
     "text": [
      "[[[218.03906 218.03906 218.03906]\n",
      "  [219.5625  219.5625  219.5625 ]\n",
      "  [219.      219.      219.     ]\n",
      "  ...\n",
      "  [226.      231.      235.     ]\n",
      "  [226.      231.      235.     ]\n",
      "  [225.      230.      234.     ]]\n",
      "\n",
      " [[219.11719 219.11719 219.11719]\n",
      "  [219.5625  219.5625  219.5625 ]\n",
      "  [219.      219.      219.     ]\n",
      "  ...\n",
      "  [226.      231.      235.     ]\n",
      "  [226.      231.      235.     ]\n",
      "  [225.      230.      234.     ]]\n",
      "\n",
      " [[219.      219.      219.     ]\n",
      "  [219.      219.      219.     ]\n",
      "  [219.      219.      219.     ]\n",
      "  ...\n",
      "  [227.      232.      236.     ]\n",
      "  [226.      231.      235.     ]\n",
      "  [225.      230.      234.     ]]\n",
      "\n",
      " ...\n",
      "\n",
      " [[210.      205.      201.     ]\n",
      "  [210.      205.      201.     ]\n",
      "  [210.      205.      201.     ]\n",
      "  ...\n",
      "  [201.      194.      186.39062]\n",
      "  [203.80469 195.19531 190.     ]\n",
      "  [201.8125  196.8125  190.8125 ]]\n",
      "\n",
      " [[210.      205.      201.     ]\n",
      "  [210.      205.      201.     ]\n",
      "  [210.      205.      201.     ]\n",
      "  ...\n",
      "  [201.      194.      188.     ]\n",
      "  [200.80225 193.      189.93408]\n",
      "  [199.71729 196.71729 191.71729]]\n",
      "\n",
      " [[209.03906 204.03906 200.03906]\n",
      "  [209.03906 204.03906 200.03906]\n",
      "  [209.03906 204.03906 200.03906]\n",
      "  ...\n",
      "  [200.      195.      191.     ]\n",
      "  [199.      195.      192.     ]\n",
      "  [201.      197.      194.     ]]]\n",
      "b'cat'\n"
     ]
    }
   ],
   "source": [
    "img, label = image_processing('.\\\\images\\\\cat\\\\International Cat Care _ The ultimate....jpg')\n",
    "print(img.numpy())\n",
    "print(label.numpy())"
   ]
  },
  {
   "cell_type": "code",
   "execution_count": 24,
   "metadata": {},
   "outputs": [],
   "source": [
    "def scaling(image, label):\n",
    "    return image/255, label"
   ]
  },
  {
   "cell_type": "code",
   "execution_count": 25,
   "metadata": {},
   "outputs": [],
   "source": [
    "train_ds = train_ds.map(image_processing)\n",
    "test_ds = test_ds.map(image_processing)"
   ]
  },
  {
   "cell_type": "code",
   "execution_count": 26,
   "metadata": {},
   "outputs": [],
   "source": [
    "train_ds = train_ds.map(scaling)\n",
    "test_ds = test_ds.map(scaling)"
   ]
  },
  {
   "cell_type": "code",
   "execution_count": 27,
   "metadata": {},
   "outputs": [
    {
     "name": "stdout",
     "output_type": "stream",
     "text": [
      "**** tf.Tensor(\n",
      "[[[0.9059021  0.9137452  0.85884327]\n",
      "  [0.9098039  0.91764706 0.8627451 ]\n",
      "  [0.91764706 0.9254902  0.87058824]\n",
      "  ...\n",
      "  [0.85518616 0.8630293  0.76891166]\n",
      "  [0.8523417  0.86018485 0.7660672 ]\n",
      "  [0.8619026  0.86974573 0.7873928 ]]\n",
      "\n",
      " [[0.9089614  0.91680455 0.8619026 ]\n",
      "  [0.90588236 0.9137255  0.85882354]\n",
      "  [0.9137255  0.92156863 0.8666667 ]\n",
      "  ...\n",
      "  [0.85435563 0.86219877 0.7753831 ]\n",
      "  [0.853606   0.8614491  0.7673315 ]\n",
      "  [0.85490197 0.8627451  0.76862746]]\n",
      "\n",
      " [[0.90811884 0.915962   0.86106   ]\n",
      "  [0.907113   0.91495615 0.8600542 ]\n",
      "  [0.90588236 0.9137255  0.85882354]\n",
      "  ...\n",
      "  [0.8473499  0.855193   0.7689185 ]\n",
      "  [0.85068417 0.8585273  0.76440966]\n",
      "  [0.8509804  0.85882354 0.7647059 ]]\n",
      "\n",
      " ...\n",
      "\n",
      " [[0.8745864  0.88242954 0.8275276 ]\n",
      "  [0.88235295 0.8901961  0.8352941 ]\n",
      "  [0.88973653 0.89757967 0.8426777 ]\n",
      "  ...\n",
      "  [0.85085785 0.8547794  0.79929537]\n",
      "  [0.8476     0.85152155 0.7859885 ]\n",
      "  [0.8509804  0.85490197 0.7912378 ]]\n",
      "\n",
      " [[0.87758887 0.885432   0.83053005]\n",
      "  [0.88235295 0.8901961  0.8352941 ]\n",
      "  [0.87448937 0.8823325  0.8274305 ]\n",
      "  ...\n",
      "  [0.8395374  0.8543505  0.79581803]\n",
      "  [0.84992653 0.8538481  0.79894614]\n",
      "  [0.843413   0.8551777  0.78851104]]\n",
      "\n",
      " [[0.890032   0.89787513 0.8429732 ]\n",
      "  [0.8745098  0.88235295 0.827451  ]\n",
      "  [0.8823461  0.89018923 0.8352873 ]\n",
      "  ...\n",
      "  [0.8627451  0.86675173 0.8112813 ]\n",
      "  [0.8397723  0.84097123 0.7705668 ]\n",
      "  [0.83437943 0.8306417  0.76005346]]], shape=(128, 128, 3), dtype=float32)\n",
      "**** tf.Tensor(b'dog', shape=(), dtype=string)\n"
     ]
    }
   ],
   "source": [
    "for image, label in train_ds.take(1):\n",
    "    print(\"****\",image)\n",
    "    print(\"****\",label)"
   ]
  },
  {
   "cell_type": "code",
   "execution_count": 28,
   "metadata": {},
   "outputs": [
    {
     "name": "stdout",
     "output_type": "stream",
     "text": [
      "****Image:  [0.99607843 0.99607843 0.99607843]\n",
      "****Label:  b'dog'\n",
      "****Image:  [0.9529412  0.9607843  0.95686275]\n",
      "****Label:  b'dog'\n",
      "****Image:  [0.10965074 0.1645527  0.03097427]\n",
      "****Label:  b'dog'\n",
      "****Image:  [0.8432598  0.8079657  0.74129903]\n",
      "****Label:  b'dog'\n",
      "****Image:  [0.7567622  0.831272   0.61558574]\n",
      "****Label:  b'dog'\n"
     ]
    }
   ],
   "source": [
    "for image, label in train_ds.take(5):\n",
    "    print(\"****Image: \",image.numpy()[0][0])\n",
    "    print(\"****Label: \",label.numpy())"
   ]
  }
 ],
 "metadata": {
  "kernelspec": {
   "display_name": "Python 3",
   "language": "python",
   "name": "python3"
  },
  "language_info": {
   "codemirror_mode": {
    "name": "ipython",
    "version": 3
   },
   "file_extension": ".py",
   "mimetype": "text/x-python",
   "name": "python",
   "nbconvert_exporter": "python",
   "pygments_lexer": "ipython3",
   "version": "3.10.9"
  },
  "orig_nbformat": 4,
  "vscode": {
   "interpreter": {
    "hash": "afdc86c72e07aac22ce05607dc8b410f6c42a07b03f768160006ceb67cd8b25c"
   }
  }
 },
 "nbformat": 4,
 "nbformat_minor": 2
}
