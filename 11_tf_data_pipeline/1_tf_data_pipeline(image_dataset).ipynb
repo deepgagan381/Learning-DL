{
 "cells": [
  {
   "cell_type": "code",
   "execution_count": 1,
   "metadata": {},
   "outputs": [],
   "source": [
    "import tensorflow as tf"
   ]
  },
  {
   "cell_type": "code",
   "execution_count": 2,
   "metadata": {},
   "outputs": [],
   "source": [
    "daily_sales_numbers = [21, 22, -108, 31, -1, 32, 34,31]"
   ]
  },
  {
   "cell_type": "code",
   "execution_count": 3,
   "metadata": {},
   "outputs": [
    {
     "data": {
      "text/plain": [
       "<TensorSliceDataset element_spec=TensorSpec(shape=(), dtype=tf.int32, name=None)>"
      ]
     },
     "execution_count": 3,
     "metadata": {},
     "output_type": "execute_result"
    }
   ],
   "source": [
    "# creating a tf dataset from list\n",
    "\n",
    "tf_dataset = tf.data.Dataset.from_tensor_slices(daily_sales_numbers)\n",
    "tf_dataset"
   ]
  },
  {
   "cell_type": "code",
   "execution_count": 5,
   "metadata": {},
   "outputs": [
    {
     "name": "stdout",
     "output_type": "stream",
     "text": [
      "21\n",
      "22\n",
      "-108\n",
      "31\n",
      "-1\n",
      "32\n",
      "34\n",
      "31\n"
     ]
    }
   ],
   "source": [
    "# itration through tf dataset\n",
    "for sales in tf_dataset:\n",
    "    print(sales.numpy())"
   ]
  },
  {
   "cell_type": "code",
   "execution_count": 7,
   "metadata": {},
   "outputs": [
    {
     "name": "stdout",
     "output_type": "stream",
     "text": [
      "21\n",
      "22\n",
      "-108\n",
      "31\n",
      "-1\n",
      "32\n",
      "34\n",
      "31\n"
     ]
    }
   ],
   "source": [
    "for sales in tf_dataset.as_numpy_iterator():\n",
    "    print(sales)"
   ]
  },
  {
   "cell_type": "code",
   "execution_count": 9,
   "metadata": {},
   "outputs": [
    {
     "name": "stdout",
     "output_type": "stream",
     "text": [
      "21\n",
      "22\n",
      "-108\n",
      "31\n",
      "-1\n"
     ]
    }
   ],
   "source": [
    "for sales in tf_dataset.take(5):\n",
    "    print(sales.numpy())"
   ]
  },
  {
   "cell_type": "code",
   "execution_count": 10,
   "metadata": {},
   "outputs": [
    {
     "name": "stdout",
     "output_type": "stream",
     "text": [
      "21\n",
      "22\n",
      "31\n",
      "32\n",
      "34\n",
      "31\n"
     ]
    }
   ],
   "source": [
    "tf_dataset=tf_dataset.filter(lambda x: x>0)\n",
    "\n",
    "for sales in tf_dataset:\n",
    "    print(sales.numpy())"
   ]
  },
  {
   "cell_type": "code",
   "execution_count": 11,
   "metadata": {},
   "outputs": [
    {
     "name": "stdout",
     "output_type": "stream",
     "text": [
      "1680\n",
      "1760\n",
      "2480\n",
      "2560\n",
      "2720\n",
      "2480\n"
     ]
    }
   ],
   "source": [
    "# Convert sales numbers from USA dollars ($) to Indian Rupees (INR) Assuming 1->80 conversation rate\n",
    "tf_dataset = tf_dataset.map(lambda x: x*80)\n",
    "for sales in tf_dataset.as_numpy_iterator():\n",
    "    print(sales)"
   ]
  },
  {
   "cell_type": "code",
   "execution_count": 13,
   "metadata": {},
   "outputs": [
    {
     "name": "stdout",
     "output_type": "stream",
     "text": [
      "2560\n",
      "2720\n",
      "1680\n",
      "2480\n",
      "2480\n",
      "1760\n"
     ]
    }
   ],
   "source": [
    "tf_dataset = tf_dataset.shuffle(3)\n",
    "for sales in tf_dataset.as_numpy_iterator():\n",
    "    print(sales)"
   ]
  },
  {
   "cell_type": "code",
   "execution_count": 14,
   "metadata": {},
   "outputs": [
    {
     "name": "stdout",
     "output_type": "stream",
     "text": [
      "[1760 2480]\n",
      "[2560 1680]\n",
      "[2720 2480]\n"
     ]
    }
   ],
   "source": [
    "for sales_batch in tf_dataset.batch(2):\n",
    "    print(sales_batch.numpy())"
   ]
  },
  {
   "cell_type": "code",
   "execution_count": 15,
   "metadata": {},
   "outputs": [
    {
     "name": "stdout",
     "output_type": "stream",
     "text": [
      "[1760 1680]\n",
      "[2480 2560]\n",
      "[2720 2480]\n"
     ]
    }
   ],
   "source": [
    "tf_dataset = tf.data.Dataset.from_tensor_slices(daily_sales_numbers)\n",
    "\n",
    "tf_dataset = tf_dataset.filter(lambda x: x>0).map(lambda y: y*80).shuffle(2).batch(2)\n",
    "\n",
    "for sales in tf_dataset.as_numpy_iterator():\n",
    "    print(sales)"
   ]
  },
  {
   "cell_type": "markdown",
   "metadata": {},
   "source": [
    "<b style=\"color:lightgreen\"><i>Applying the above operations on Image dataset</i></b>"
   ]
  },
  {
   "cell_type": "code",
   "execution_count": 16,
   "metadata": {},
   "outputs": [],
   "source": [
    "images = tf.data.Dataset.list_files('./images/*/*', shuffle=False)"
   ]
  },
  {
   "cell_type": "code",
   "execution_count": 18,
   "metadata": {},
   "outputs": [
    {
     "data": {
      "text/plain": [
       "130"
      ]
     },
     "execution_count": 18,
     "metadata": {},
     "output_type": "execute_result"
    }
   ],
   "source": [
    "img_count = len(images)\n",
    "img_count"
   ]
  },
  {
   "cell_type": "code",
   "execution_count": 19,
   "metadata": {},
   "outputs": [
    {
     "data": {
      "text/plain": [
       "tensorflow.python.data.ops.dataset_ops.TensorSliceDataset"
      ]
     },
     "execution_count": 19,
     "metadata": {},
     "output_type": "execute_result"
    }
   ],
   "source": [
    "type(images)"
   ]
  },
  {
   "cell_type": "code",
   "execution_count": 21,
   "metadata": {},
   "outputs": [
    {
     "name": "stdout",
     "output_type": "stream",
     "text": [
      "b'.\\\\images\\\\cat\\\\20 Reasons Why Cats Make the Best Pets....jpg'\n",
      "b'.\\\\images\\\\cat\\\\7 Foods Your Cat Can_t Eat.jpg'\n",
      "b'.\\\\images\\\\cat\\\\A cat appears to have caught the....jpg'\n",
      "b'.\\\\images\\\\cat\\\\Adopt-A-Cat Month\\xc2\\xae - American Humane....jpg'\n",
      "b'.\\\\images\\\\cat\\\\All About Your Cat_s Tongue.jpg'\n"
     ]
    }
   ],
   "source": [
    "for img in images.take(5):\n",
    "    print(img.numpy())"
   ]
  },
  {
   "cell_type": "code",
   "execution_count": 26,
   "metadata": {},
   "outputs": [
    {
     "name": "stdout",
     "output_type": "stream",
     "text": [
      "b'.\\\\images\\\\dog\\\\Hong Kong dog causes panic \\xe2\\x80\\x93 but here_s... (1).jpg'\n",
      "b'.\\\\images\\\\cat\\\\International Cat Care _ The ultimate....jpg'\n",
      "b'.\\\\images\\\\cat\\\\The Joys of Owning a Cat - HelpGuide.org.jpg'\n",
      "b'.\\\\images\\\\dog\\\\Those Puppy Dog Eyes You Can_t Resist....jpg'\n",
      "b'.\\\\images\\\\dog\\\\How Many Dog Breeds Are There_ _ Hill_s Pet.jpg'\n"
     ]
    }
   ],
   "source": [
    "images = images.shuffle(130)\n",
    "\n",
    "for img in images.take(5):\n",
    "    print(img.numpy())"
   ]
  },
  {
   "cell_type": "code",
   "execution_count": 27,
   "metadata": {},
   "outputs": [],
   "source": [
    "classes = ['Cat', 'Dog']"
   ]
  },
  {
   "cell_type": "code",
   "execution_count": 28,
   "metadata": {},
   "outputs": [],
   "source": [
    "train_size = int(img_count*0.8)\n",
    "train_ds = images.take(train_size)\n",
    "test_ds = images.skip(train_size)"
   ]
  },
  {
   "cell_type": "code",
   "execution_count": 29,
   "metadata": {},
   "outputs": [
    {
     "data": {
      "text/plain": [
       "(104, 26)"
      ]
     },
     "execution_count": 29,
     "metadata": {},
     "output_type": "execute_result"
    }
   ],
   "source": [
    "len(train_ds), len(test_ds)"
   ]
  },
  {
   "cell_type": "code",
   "execution_count": 36,
   "metadata": {},
   "outputs": [],
   "source": [
    "import os\n",
    "\n",
    "def get_class_label(path):\n",
    "    parts = tf.strings.split(path, os.path.sep)\n",
    "    return parts[-2]"
   ]
  },
  {
   "cell_type": "code",
   "execution_count": 42,
   "metadata": {},
   "outputs": [
    {
     "data": {
      "text/plain": [
       "<tf.Tensor: shape=(), dtype=string, numpy=b'dog'>"
      ]
     },
     "execution_count": 42,
     "metadata": {},
     "output_type": "execute_result"
    }
   ],
   "source": [
    "get_class_label(\".\\\\images\\\\dog\\\\Hong Kong dog causes panic \\xe2\\x80\\x93 but here_s... (1).jpg\")"
   ]
  },
  {
   "cell_type": "code",
   "execution_count": 43,
   "metadata": {},
   "outputs": [],
   "source": [
    "def image_processing(path):\n",
    "    class_label=get_class_label(path)\n",
    "    \n",
    "    img = tf.io.read_file(path)\n",
    "    img = tf.image.decode_jpeg(img)\n",
    "    img = tf.image.resize(img, [128, 128])\n",
    "    \n",
    "    return img, class_label"
   ]
  },
  {
   "cell_type": "code",
   "execution_count": 49,
   "metadata": {},
   "outputs": [
    {
     "name": "stdout",
     "output_type": "stream",
     "text": [
      "[[[218.03906 218.03906 218.03906]\n",
      "  [219.5625  219.5625  219.5625 ]\n",
      "  [219.      219.      219.     ]\n",
      "  ...\n",
      "  [226.      231.      235.     ]\n",
      "  [226.      231.      235.     ]\n",
      "  [225.      230.      234.     ]]\n",
      "\n",
      " [[219.11719 219.11719 219.11719]\n",
      "  [219.5625  219.5625  219.5625 ]\n",
      "  [219.      219.      219.     ]\n",
      "  ...\n",
      "  [226.      231.      235.     ]\n",
      "  [226.      231.      235.     ]\n",
      "  [225.      230.      234.     ]]\n",
      "\n",
      " [[219.      219.      219.     ]\n",
      "  [219.      219.      219.     ]\n",
      "  [219.      219.      219.     ]\n",
      "  ...\n",
      "  [227.      232.      236.     ]\n",
      "  [226.      231.      235.     ]\n",
      "  [225.      230.      234.     ]]\n",
      "\n",
      " ...\n",
      "\n",
      " [[210.      205.      201.     ]\n",
      "  [210.      205.      201.     ]\n",
      "  [210.      205.      201.     ]\n",
      "  ...\n",
      "  [201.      194.      186.39062]\n",
      "  [203.80469 195.19531 190.     ]\n",
      "  [201.8125  196.8125  190.8125 ]]\n",
      "\n",
      " [[210.      205.      201.     ]\n",
      "  [210.      205.      201.     ]\n",
      "  [210.      205.      201.     ]\n",
      "  ...\n",
      "  [201.      194.      188.     ]\n",
      "  [200.80225 193.      189.93408]\n",
      "  [199.71729 196.71729 191.71729]]\n",
      "\n",
      " [[209.03906 204.03906 200.03906]\n",
      "  [209.03906 204.03906 200.03906]\n",
      "  [209.03906 204.03906 200.03906]\n",
      "  ...\n",
      "  [200.      195.      191.     ]\n",
      "  [199.      195.      192.     ]\n",
      "  [201.      197.      194.     ]]]\n",
      "b'cat'\n"
     ]
    }
   ],
   "source": [
    "img, label = image_processing('.\\\\images\\\\cat\\\\International Cat Care _ The ultimate....jpg')\n",
    "print(img.numpy())\n",
    "print(label.numpy())"
   ]
  },
  {
   "cell_type": "code",
   "execution_count": 50,
   "metadata": {},
   "outputs": [],
   "source": [
    "def scaling(image, label):\n",
    "    return image/255, label"
   ]
  },
  {
   "cell_type": "code",
   "execution_count": 52,
   "metadata": {},
   "outputs": [],
   "source": [
    "train_ds = train_ds.map(image_processing)\n",
    "test_ds = test_ds.map(image_processing)"
   ]
  },
  {
   "cell_type": "code",
   "execution_count": 53,
   "metadata": {},
   "outputs": [],
   "source": [
    "train_ds = train_ds.map(scaling)\n",
    "test_ds = test_ds.map(scaling)"
   ]
  },
  {
   "cell_type": "code",
   "execution_count": 54,
   "metadata": {},
   "outputs": [
    {
     "name": "stdout",
     "output_type": "stream",
     "text": [
      "**** tf.Tensor(\n",
      "[[[0.92941177 0.92941177 0.92941177]\n",
      "  [0.92941177 0.92941177 0.92941177]\n",
      "  [0.92941177 0.92941177 0.92941177]\n",
      "  ...\n",
      "  [0.8012839  0.59736234 0.4130486 ]\n",
      "  [0.7707903  0.597414   0.42121917]\n",
      "  [0.81061196 0.63806295 0.46159238]]\n",
      "\n",
      " [[0.92941177 0.92941177 0.92941177]\n",
      "  [0.92941177 0.92941177 0.92941177]\n",
      "  [0.92941177 0.92941177 0.92941177]\n",
      "  ...\n",
      "  [0.7755285  0.5755285  0.3990579 ]\n",
      "  [0.7993576  0.614613   0.45000193]\n",
      "  [0.81754464 0.62724704 0.45768994]]\n",
      "\n",
      " [[0.92941177 0.92941177 0.92941177]\n",
      "  [0.92941177 0.92941177 0.92941177]\n",
      "  [0.92941177 0.92941177 0.92941177]\n",
      "  ...\n",
      "  [0.8015108  0.616952   0.45212355]\n",
      "  [0.8233858  0.62063324 0.46717983]\n",
      "  [0.785297   0.5815037  0.42427906]]\n",
      "\n",
      " ...\n",
      "\n",
      " [[0.9998162  0.9998162  0.9998162 ]\n",
      "  [0.99215686 0.99215686 0.99215686]\n",
      "  [1.         1.         1.        ]\n",
      "  ...\n",
      "  [1.         1.         1.        ]\n",
      "  [1.         1.         1.        ]\n",
      "  [1.         1.         1.        ]]\n",
      "\n",
      " [[0.9998162  0.9998162  0.9998162 ]\n",
      "  [0.99215686 0.99215686 0.99215686]\n",
      "  [1.         1.         1.        ]\n",
      "  ...\n",
      "  [1.         1.         1.        ]\n",
      "  [1.         1.         1.        ]\n",
      "  [1.         1.         1.        ]]\n",
      "\n",
      " [[0.9998162  0.9998162  0.9998162 ]\n",
      "  [0.99215686 0.99215686 0.99215686]\n",
      "  [1.         1.         1.        ]\n",
      "  ...\n",
      "  [1.         1.         1.        ]\n",
      "  [1.         1.         1.        ]\n",
      "  [1.         1.         1.        ]]], shape=(128, 128, 3), dtype=float32)\n",
      "**** tf.Tensor(b'dog', shape=(), dtype=string)\n"
     ]
    }
   ],
   "source": [
    "for image, label in train_ds.take(1):\n",
    "    print(\"****\",image)\n",
    "    print(\"****\",label)"
   ]
  },
  {
   "cell_type": "code",
   "execution_count": 55,
   "metadata": {},
   "outputs": [
    {
     "name": "stdout",
     "output_type": "stream",
     "text": [
      "****Image:  [0.34335172 0.359038   0.35511643]\n",
      "****Label:  b'dog'\n",
      "****Image:  [0.0891391  0.07345282 0.0381587 ]\n",
      "****Label:  b'dog'\n",
      "****Image:  [0.85505515 0.85505515 0.85505515]\n",
      "****Label:  b'cat'\n",
      "****Image:  [0.14935039 0.19651932 0.14156231]\n",
      "****Label:  b'cat'\n",
      "****Image:  [0.49607843 0.4254902  0.38627452]\n",
      "****Label:  b'cat'\n"
     ]
    }
   ],
   "source": [
    "for image, label in train_ds.take(5):\n",
    "    print(\"****Image: \",image.numpy()[0][0])\n",
    "    print(\"****Label: \",label.numpy())"
   ]
  },
  {
   "cell_type": "code",
   "execution_count": null,
   "metadata": {},
   "outputs": [],
   "source": []
  }
 ],
 "metadata": {
  "kernelspec": {
   "display_name": "Python 3.9.0 64-bit",
   "language": "python",
   "name": "python3"
  },
  "language_info": {
   "codemirror_mode": {
    "name": "ipython",
    "version": 3
   },
   "file_extension": ".py",
   "mimetype": "text/x-python",
   "name": "python",
   "nbconvert_exporter": "python",
   "pygments_lexer": "ipython3",
   "version": "3.9.0"
  },
  "orig_nbformat": 4,
  "vscode": {
   "interpreter": {
    "hash": "5b3baee9e35d4db22f6d5a2f20af5cc213f37b770f0c2f6a6a9db9c386166091"
   }
  }
 },
 "nbformat": 4,
 "nbformat_minor": 2
}
