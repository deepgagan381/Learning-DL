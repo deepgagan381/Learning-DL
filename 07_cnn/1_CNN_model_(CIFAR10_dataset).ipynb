{
 "cells": [
  {
   "cell_type": "code",
   "execution_count": 1,
   "metadata": {},
   "outputs": [],
   "source": [
    "import numpy as np\n",
    "import matplotlib.pyplot as plt\n",
    "import tensorflow as tf\n",
    "from tensorflow import keras\n",
    "%matplotlib inline"
   ]
  },
  {
   "cell_type": "code",
   "execution_count": 2,
   "metadata": {},
   "outputs": [],
   "source": [
    "(x_train, y_train), (x_test, y_test) = keras.datasets.cifar10.load_data()"
   ]
  },
  {
   "cell_type": "code",
   "execution_count": 3,
   "metadata": {},
   "outputs": [
    {
     "data": {
      "text/plain": [
       "((50000, 32, 32, 3), (50000, 1))"
      ]
     },
     "execution_count": 3,
     "metadata": {},
     "output_type": "execute_result"
    }
   ],
   "source": [
    "x_train.shape, y_train.shape"
   ]
  },
  {
   "cell_type": "code",
   "execution_count": 4,
   "metadata": {},
   "outputs": [],
   "source": [
    "class_name = ['airplane', 'automobile', 'bird', 'cat', 'deer', 'dog', 'frog', 'horse', 'ship', 'truck']"
   ]
  },
  {
   "cell_type": "code",
   "execution_count": 21,
   "metadata": {},
   "outputs": [],
   "source": [
    "y_train = y_train.reshape(-1,)\n",
    "y_test = y_test.reshape(-1,)"
   ]
  },
  {
   "cell_type": "code",
   "execution_count": 31,
   "metadata": {},
   "outputs": [],
   "source": [
    "def print_photo(x, y, index):\n",
    "    plt.figure(figsize=(15,2))\n",
    "    plt.imshow(x[index])\n",
    "    plt.xlabel(class_name[y[index]])"
   ]
  },
  {
   "cell_type": "code",
   "execution_count": 32,
   "metadata": {},
   "outputs": [
    {
     "name": "stdout",
     "output_type": "stream",
     "text": [
      "12348\n"
     ]
    },
    {
     "data": {
      "image/png": "[encoded data removed]",
      "text/plain": [
       "<Figure size 1080x144 with 1 Axes>"
      ]
     },
     "metadata": {
      "needs_background": "light"
     },
     "output_type": "display_data"
    }
   ],
   "source": [
    "import random\n",
    "i = random.randint(0,50000)\n",
    "print(i)\n",
    "print_photo(x_train, y_train, i)"
   ]
  },
  {
   "cell_type": "code",
   "execution_count": 33,
   "metadata": {},
   "outputs": [],
   "source": [
    "## Scaling the data before model building\n",
    "\n",
    "scaled_x_train = x_train/255\n",
    "scaled_x_test = x_test/255"
   ]
  },
  {
   "cell_type": "code",
   "execution_count": 34,
   "metadata": {},
   "outputs": [
    {
     "name": "stdout",
     "output_type": "stream",
     "text": [
      "Epoch 1/10\n",
      "1563/1563 [==============================] - 200s 125ms/step - loss: 1.8695 - accuracy: 0.3276\n",
      "Epoch 2/10\n",
      "1563/1563 [==============================] - 200s 128ms/step - loss: 1.6671 - accuracy: 0.3965\n",
      "Epoch 3/10\n",
      "1563/1563 [==============================] - 208s 133ms/step - loss: 1.5918 - accuracy: 0.4275\n",
      "Epoch 4/10\n",
      "1563/1563 [==============================] - 209s 133ms/step - loss: 1.5428 - accuracy: 0.4440\n",
      "Epoch 5/10\n",
      "1563/1563 [==============================] - 210s 134ms/step - loss: 1.5073 - accuracy: 0.4593\n",
      "Epoch 6/10\n",
      "1563/1563 [==============================] - 196s 126ms/step - loss: 1.4782 - accuracy: 0.4700\n",
      "Epoch 7/10\n",
      "1563/1563 [==============================] - 207s 132ms/step - loss: 1.4550 - accuracy: 0.4763\n",
      "Epoch 8/10\n",
      "1563/1563 [==============================] - 222s 142ms/step - loss: 1.4319 - accuracy: 0.4868\n",
      "Epoch 9/10\n",
      "1563/1563 [==============================] - 207s 132ms/step - loss: 1.4133 - accuracy: 0.4898\n",
      "Epoch 10/10\n",
      "1563/1563 [==============================] - 203s 130ms/step - loss: 1.3964 - accuracy: 0.4979\n"
     ]
    },
    {
     "data": {
      "text/plain": [
       "<keras.callbacks.History at 0x26dd6588790>"
      ]
     },
     "execution_count": 34,
     "metadata": {},
     "output_type": "execute_result"
    }
   ],
   "source": [
    "model = keras.Sequential([\n",
    "    keras.layers.Flatten(input_shape=(32,32,3)),\n",
    "    keras.layers.Dense(2500, activation='relu'),\n",
    "    keras.layers.Dense(1500, activation='relu'),\n",
    "    keras.layers.Dense(10, activation='sigmoid')\n",
    "])\n",
    "\n",
    "model.compile(\n",
    "    optimizer='adam',\n",
    "    loss='sparse_categorical_crossentropy',\n",
    "    metrics=['accuracy']\n",
    ")\n",
    "model.fit(scaled_x_train, y_train, epochs=10)"
   ]
  },
  {
   "cell_type": "code",
   "execution_count": 35,
   "metadata": {},
   "outputs": [
    {
     "name": "stdout",
     "output_type": "stream",
     "text": [
      "313/313 [==============================] - 11s 32ms/step - loss: 1.4861 - accuracy: 0.4793\n"
     ]
    },
    {
     "data": {
      "text/plain": [
       "[1.4860533475875854, 0.47929999232292175]"
      ]
     },
     "execution_count": 35,
     "metadata": {},
     "output_type": "execute_result"
    }
   ],
   "source": [
    "model.evaluate(scaled_x_test, y_test)"
   ]
  },
  {
   "cell_type": "code",
   "execution_count": 36,
   "metadata": {},
   "outputs": [
    {
     "name": "stdout",
     "output_type": "stream",
     "text": [
      "313/313 [==============================] - 12s 37ms/step\n"
     ]
    }
   ],
   "source": [
    "y_pred_ann=model.predict(scaled_x_test)"
   ]
  },
  {
   "cell_type": "code",
   "execution_count": 37,
   "metadata": {},
   "outputs": [],
   "source": [
    "y_pred_ann=[np.argmax(i) for i in y_pred_ann]"
   ]
  },
  {
   "cell_type": "code",
   "execution_count": 40,
   "metadata": {},
   "outputs": [
    {
     "name": "stdout",
     "output_type": "stream",
     "text": [
      "              precision    recall  f1-score   support\n",
      "\n",
      "           0       0.54      0.54      0.54      1000\n",
      "           1       0.60      0.62      0.61      1000\n",
      "           2       0.30      0.44      0.36      1000\n",
      "           3       0.34      0.30      0.32      1000\n",
      "           4       0.38      0.42      0.40      1000\n",
      "           5       0.43      0.37      0.40      1000\n",
      "           6       0.54      0.46      0.50      1000\n",
      "           7       0.50      0.62      0.56      1000\n",
      "           8       0.68      0.53      0.60      1000\n",
      "           9       0.60      0.48      0.54      1000\n",
      "\n",
      "    accuracy                           0.48     10000\n",
      "   macro avg       0.49      0.48      0.48     10000\n",
      "weighted avg       0.49      0.48      0.48     10000\n",
      "\n"
     ]
    }
   ],
   "source": [
    "from sklearn.metrics import classification_report\n",
    "print(classification_report(y_test, y_pred_ann))"
   ]
  },
  {
   "cell_type": "code",
   "execution_count": 44,
   "metadata": {},
   "outputs": [
    {
     "name": "stdout",
     "output_type": "stream",
     "text": [
      "Epoch 1/10\n",
      "1563/1563 [==============================] - 63s 37ms/step - loss: 1.4787 - accuracy: 0.4711\n",
      "Epoch 2/10\n",
      "1563/1563 [==============================] - 54s 35ms/step - loss: 1.1209 - accuracy: 0.6067\n",
      "Epoch 3/10\n",
      "1563/1563 [==============================] - 59s 38ms/step - loss: 0.9925 - accuracy: 0.6534\n",
      "Epoch 4/10\n",
      "1563/1563 [==============================] - 61s 39ms/step - loss: 0.9149 - accuracy: 0.6827\n",
      "Epoch 5/10\n",
      "1563/1563 [==============================] - 68s 44ms/step - loss: 0.8511 - accuracy: 0.7030\n",
      "Epoch 6/10\n",
      "1563/1563 [==============================] - 59s 38ms/step - loss: 0.7976 - accuracy: 0.7227\n",
      "Epoch 7/10\n",
      "1563/1563 [==============================] - 59s 38ms/step - loss: 0.7495 - accuracy: 0.7376\n",
      "Epoch 8/10\n",
      "1563/1563 [==============================] - 79s 50ms/step - loss: 0.7092 - accuracy: 0.7510\n",
      "Epoch 9/10\n",
      "1563/1563 [==============================] - 62s 40ms/step - loss: 0.6728 - accuracy: 0.7632\n",
      "Epoch 10/10\n",
      "1563/1563 [==============================] - 59s 38ms/step - loss: 0.6328 - accuracy: 0.7785\n"
     ]
    },
    {
     "data": {
      "text/plain": [
       "<keras.callbacks.History at 0x26e3f17fd90>"
      ]
     },
     "execution_count": 44,
     "metadata": {},
     "output_type": "execute_result"
    }
   ],
   "source": [
    "cnn = keras.Sequential([\n",
    "    \n",
    "    keras.layers.Conv2D(filters=32, kernel_size=(3, 3), activation='relu', input_shape=(32, 32, 3)),\n",
    "    keras.layers.MaxPooling2D((2, 2)),\n",
    "    \n",
    "    keras.layers.Conv2D(filters=64, kernel_size=(3, 3), activation='relu'),\n",
    "    keras.layers.MaxPooling2D((2, 2)),\n",
    "    \n",
    "    keras.layers.Flatten(),\n",
    "    keras.layers.Dense(64, activation='relu'),\n",
    "    keras.layers.Dense(10, activation='softmax')\n",
    "])\n",
    "\n",
    "cnn.compile(\n",
    "    optimizer='adam',\n",
    "    loss='sparse_categorical_crossentropy',\n",
    "    metrics=['accuracy']\n",
    ")\n",
    "cnn.fit(scaled_x_train, y_train, epochs=10)"
   ]
  },
  {
   "cell_type": "code",
   "execution_count": 45,
   "metadata": {},
   "outputs": [
    {
     "name": "stdout",
     "output_type": "stream",
     "text": [
      "313/313 [==============================] - 4s 12ms/step - loss: 0.9111 - accuracy: 0.6946\n"
     ]
    },
    {
     "data": {
      "text/plain": [
       "[0.9110760688781738, 0.694599986076355]"
      ]
     },
     "execution_count": 45,
     "metadata": {},
     "output_type": "execute_result"
    }
   ],
   "source": [
    "cnn.evaluate(scaled_x_test, y_test)"
   ]
  },
  {
   "cell_type": "code",
   "execution_count": 46,
   "metadata": {},
   "outputs": [
    {
     "name": "stdout",
     "output_type": "stream",
     "text": [
      "313/313 [==============================] - 4s 12ms/step\n"
     ]
    }
   ],
   "source": [
    "y_pred_cnn=cnn.predict(scaled_x_test)"
   ]
  },
  {
   "cell_type": "code",
   "execution_count": 47,
   "metadata": {},
   "outputs": [],
   "source": [
    "y_pred_cnn=[np.argmax(i) for i in y_pred_cnn]"
   ]
  },
  {
   "cell_type": "code",
   "execution_count": 48,
   "metadata": {},
   "outputs": [
    {
     "name": "stdout",
     "output_type": "stream",
     "text": [
      "              precision    recall  f1-score   support\n",
      "\n",
      "           0       0.78      0.68      0.72      1000\n",
      "           1       0.84      0.80      0.82      1000\n",
      "           2       0.64      0.54      0.58      1000\n",
      "           3       0.47      0.57      0.52      1000\n",
      "           4       0.66      0.64      0.65      1000\n",
      "           5       0.57      0.62      0.59      1000\n",
      "           6       0.73      0.76      0.75      1000\n",
      "           7       0.76      0.71      0.74      1000\n",
      "           8       0.80      0.82      0.81      1000\n",
      "           9       0.74      0.81      0.77      1000\n",
      "\n",
      "    accuracy                           0.69     10000\n",
      "   macro avg       0.70      0.69      0.70     10000\n",
      "weighted avg       0.70      0.69      0.70     10000\n",
      "\n"
     ]
    }
   ],
   "source": [
    "print(classification_report(y_test, y_pred_cnn))"
   ]
  },
  {
   "cell_type": "code",
   "execution_count": 76,
   "metadata": {},
   "outputs": [
    {
     "name": "stdout",
     "output_type": "stream",
     "text": [
      "3474\n",
      "using cnn: bird, using ann: frog\n"
     ]
    },
    {
     "data": {
      "image/png": "[encoded data removed]",
      "text/plain": [
       "<Figure size 1080x144 with 1 Axes>"
      ]
     },
     "metadata": {
      "needs_background": "light"
     },
     "output_type": "display_data"
    }
   ],
   "source": [
    "j = random.randint(0, 9999)\n",
    "\n",
    "print(j)\n",
    "print_photo(x_test,y_test,j)\n",
    "print(\"using cnn: {}, using ann: {}\".format(class_name[y_pred_cnn[j]], class_name[y_pred_ann[j]]))"
   ]
  },
  {
   "cell_type": "code",
   "execution_count": null,
   "metadata": {},
   "outputs": [],
   "source": []
  }
 ],
 "metadata": {
  "kernelspec": {
   "display_name": "Python 3.9.0 64-bit",
   "language": "python",
   "name": "python3"
  },
  "language_info": {
   "codemirror_mode": {
    "name": "ipython",
    "version": 3
   },
   "file_extension": ".py",
   "mimetype": "text/x-python",
   "name": "python",
   "nbconvert_exporter": "python",
   "pygments_lexer": "ipython3",
   "version": "3.9.0"
  },
  "orig_nbformat": 4,
  "vscode": {
   "interpreter": {
    "hash": "5b3baee9e35d4db22f6d5a2f20af5cc213f37b770f0c2f6a6a9db9c386166091"
   }
  }
 },
 "nbformat": 4,
 "nbformat_minor": 2
}
