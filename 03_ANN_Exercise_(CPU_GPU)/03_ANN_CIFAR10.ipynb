{
 "cells": [
  {
   "cell_type": "code",
   "execution_count": 36,
   "metadata": {},
   "outputs": [],
   "source": [
    "import pandas as pd\n",
    "import numpy as np\n",
    "import tensorflow as tf\n",
    "from tensorflow import keras\n",
    "import matplotlib.pyplot as plt\n",
    "%matplotlib inline"
   ]
  },
  {
   "cell_type": "code",
   "execution_count": 37,
   "metadata": {},
   "outputs": [
    {
     "data": {
      "text/plain": [
       "[PhysicalDevice(name='/physical_device:CPU:0', device_type='CPU')]"
      ]
     },
     "execution_count": 37,
     "metadata": {},
     "output_type": "execute_result"
    }
   ],
   "source": [
    "tf.config.experimental.list_physical_devices()"
   ]
  },
  {
   "cell_type": "code",
   "execution_count": 38,
   "metadata": {},
   "outputs": [
    {
     "data": {
      "text/plain": [
       "True"
      ]
     },
     "execution_count": 38,
     "metadata": {},
     "output_type": "execute_result"
    }
   ],
   "source": [
    "tf.test.is_built_with_cuda()"
   ]
  },
  {
   "cell_type": "code",
   "execution_count": 39,
   "metadata": {},
   "outputs": [],
   "source": [
    "(x_train, y_train), (x_test, y_test) = tf.keras.datasets.cifar10.load_data()"
   ]
  },
  {
   "cell_type": "code",
   "execution_count": 40,
   "metadata": {},
   "outputs": [
    {
     "data": {
      "text/plain": [
       "(50000, 32, 32, 3)"
      ]
     },
     "execution_count": 40,
     "metadata": {},
     "output_type": "execute_result"
    }
   ],
   "source": [
    "x_train.shape"
   ]
  },
  {
   "cell_type": "code",
   "execution_count": 41,
   "metadata": {},
   "outputs": [
    {
     "data": {
      "text/plain": [
       "array([[[ 59,  62,  63],\n",
       "        [ 43,  46,  45],\n",
       "        [ 50,  48,  43],\n",
       "        ...,\n",
       "        [158, 132, 108],\n",
       "        [152, 125, 102],\n",
       "        [148, 124, 103]],\n",
       "\n",
       "       [[ 16,  20,  20],\n",
       "        [  0,   0,   0],\n",
       "        [ 18,   8,   0],\n",
       "        ...,\n",
       "        [123,  88,  55],\n",
       "        [119,  83,  50],\n",
       "        [122,  87,  57]],\n",
       "\n",
       "       [[ 25,  24,  21],\n",
       "        [ 16,   7,   0],\n",
       "        [ 49,  27,   8],\n",
       "        ...,\n",
       "        [118,  84,  50],\n",
       "        [120,  84,  50],\n",
       "        [109,  73,  42]],\n",
       "\n",
       "       ...,\n",
       "\n",
       "       [[208, 170,  96],\n",
       "        [201, 153,  34],\n",
       "        [198, 161,  26],\n",
       "        ...,\n",
       "        [160, 133,  70],\n",
       "        [ 56,  31,   7],\n",
       "        [ 53,  34,  20]],\n",
       "\n",
       "       [[180, 139,  96],\n",
       "        [173, 123,  42],\n",
       "        [186, 144,  30],\n",
       "        ...,\n",
       "        [184, 148,  94],\n",
       "        [ 97,  62,  34],\n",
       "        [ 83,  53,  34]],\n",
       "\n",
       "       [[177, 144, 116],\n",
       "        [168, 129,  94],\n",
       "        [179, 142,  87],\n",
       "        ...,\n",
       "        [216, 184, 140],\n",
       "        [151, 118,  84],\n",
       "        [123,  92,  72]]], dtype=uint8)"
      ]
     },
     "execution_count": 41,
     "metadata": {},
     "output_type": "execute_result"
    }
   ],
   "source": [
    "x_train[0]"
   ]
  },
  {
   "cell_type": "code",
   "execution_count": 42,
   "metadata": {},
   "outputs": [
    {
     "data": {
      "text/plain": [
       "<matplotlib.image.AxesImage at 0x24f0c24fe50>"
      ]
     },
     "execution_count": 42,
     "metadata": {},
     "output_type": "execute_result"
    },
    {
     "data": {
      "image/png": "[encoded data removed]",
      "text/plain": [
       "<Figure size 288x288 with 1 Axes>"
      ]
     },
     "metadata": {
      "needs_background": "light"
     },
     "output_type": "display_data"
    }
   ],
   "source": [
    "plt.matshow(x_train[0])"
   ]
  },
  {
   "cell_type": "code",
   "execution_count": 43,
   "metadata": {},
   "outputs": [],
   "source": [
    "class_name = ['airplane', 'automobile', 'bird', 'cat', 'deer', 'dog', 'frog', 'horse', 'ship', 'truck']"
   ]
  },
  {
   "cell_type": "code",
   "execution_count": 44,
   "metadata": {},
   "outputs": [
    {
     "data": {
      "text/plain": [
       "'frog'"
      ]
     },
     "execution_count": 44,
     "metadata": {},
     "output_type": "execute_result"
    }
   ],
   "source": [
    "class_name[y_train[0][0]]"
   ]
  },
  {
   "cell_type": "code",
   "execution_count": 45,
   "metadata": {},
   "outputs": [],
   "source": [
    "## Never forget Scaling the data before using ANN\n",
    "\n",
    "scaled_x_train = x_train/255\n",
    "scaled_x_test = x_test/255"
   ]
  },
  {
   "cell_type": "code",
   "execution_count": 46,
   "metadata": {},
   "outputs": [
    {
     "data": {
      "text/plain": [
       "array([[[0.23137255, 0.24313725, 0.24705882],\n",
       "        [0.16862745, 0.18039216, 0.17647059],\n",
       "        [0.19607843, 0.18823529, 0.16862745],\n",
       "        ...,\n",
       "        [0.61960784, 0.51764706, 0.42352941],\n",
       "        [0.59607843, 0.49019608, 0.4       ],\n",
       "        [0.58039216, 0.48627451, 0.40392157]],\n",
       "\n",
       "       [[0.0627451 , 0.07843137, 0.07843137],\n",
       "        [0.        , 0.        , 0.        ],\n",
       "        [0.07058824, 0.03137255, 0.        ],\n",
       "        ...,\n",
       "        [0.48235294, 0.34509804, 0.21568627],\n",
       "        [0.46666667, 0.3254902 , 0.19607843],\n",
       "        [0.47843137, 0.34117647, 0.22352941]],\n",
       "\n",
       "       [[0.09803922, 0.09411765, 0.08235294],\n",
       "        [0.0627451 , 0.02745098, 0.        ],\n",
       "        [0.19215686, 0.10588235, 0.03137255],\n",
       "        ...,\n",
       "        [0.4627451 , 0.32941176, 0.19607843],\n",
       "        [0.47058824, 0.32941176, 0.19607843],\n",
       "        [0.42745098, 0.28627451, 0.16470588]],\n",
       "\n",
       "       ...,\n",
       "\n",
       "       [[0.81568627, 0.66666667, 0.37647059],\n",
       "        [0.78823529, 0.6       , 0.13333333],\n",
       "        [0.77647059, 0.63137255, 0.10196078],\n",
       "        ...,\n",
       "        [0.62745098, 0.52156863, 0.2745098 ],\n",
       "        [0.21960784, 0.12156863, 0.02745098],\n",
       "        [0.20784314, 0.13333333, 0.07843137]],\n",
       "\n",
       "       [[0.70588235, 0.54509804, 0.37647059],\n",
       "        [0.67843137, 0.48235294, 0.16470588],\n",
       "        [0.72941176, 0.56470588, 0.11764706],\n",
       "        ...,\n",
       "        [0.72156863, 0.58039216, 0.36862745],\n",
       "        [0.38039216, 0.24313725, 0.13333333],\n",
       "        [0.3254902 , 0.20784314, 0.13333333]],\n",
       "\n",
       "       [[0.69411765, 0.56470588, 0.45490196],\n",
       "        [0.65882353, 0.50588235, 0.36862745],\n",
       "        [0.70196078, 0.55686275, 0.34117647],\n",
       "        ...,\n",
       "        [0.84705882, 0.72156863, 0.54901961],\n",
       "        [0.59215686, 0.4627451 , 0.32941176],\n",
       "        [0.48235294, 0.36078431, 0.28235294]]])"
      ]
     },
     "execution_count": 46,
     "metadata": {},
     "output_type": "execute_result"
    }
   ],
   "source": [
    "scaled_x_train[0]"
   ]
  },
  {
   "cell_type": "code",
   "execution_count": 47,
   "metadata": {},
   "outputs": [
    {
     "data": {
      "text/plain": [
       "array([[6],\n",
       "       [9],\n",
       "       [9],\n",
       "       ...,\n",
       "       [9],\n",
       "       [1],\n",
       "       [1]], dtype=uint8)"
      ]
     },
     "execution_count": 47,
     "metadata": {},
     "output_type": "execute_result"
    }
   ],
   "source": [
    "y_train"
   ]
  },
  {
   "cell_type": "code",
   "execution_count": 48,
   "metadata": {},
   "outputs": [],
   "source": [
    "categorical_y_train = keras.utils.to_categorical(y_train, num_classes=10, dtype='float32')\n",
    "categorical_y_test = keras.utils.to_categorical(y_test, num_classes=10, dtype='float32')"
   ]
  },
  {
   "cell_type": "code",
   "execution_count": 49,
   "metadata": {},
   "outputs": [
    {
     "data": {
      "text/plain": [
       "array([[0., 0., 0., ..., 0., 0., 0.],\n",
       "       [0., 0., 0., ..., 0., 0., 1.],\n",
       "       [0., 0., 0., ..., 0., 0., 1.],\n",
       "       ...,\n",
       "       [0., 0., 0., ..., 0., 0., 1.],\n",
       "       [0., 1., 0., ..., 0., 0., 0.],\n",
       "       [0., 1., 0., ..., 0., 0., 0.]], dtype=float32)"
      ]
     },
     "execution_count": 49,
     "metadata": {},
     "output_type": "execute_result"
    }
   ],
   "source": [
    "categorical_y_train"
   ]
  },
  {
   "cell_type": "code",
   "execution_count": 50,
   "metadata": {},
   "outputs": [
    {
     "name": "stdout",
     "output_type": "stream",
     "text": [
      "Epoch 1/15\n",
      "1563/1563 [==============================] - 241s 153ms/step - loss: 1.8943 - accuracy: 0.3150\n",
      "Epoch 2/15\n",
      "1563/1563 [==============================] - 216s 138ms/step - loss: 1.7008 - accuracy: 0.3882\n",
      "Epoch 3/15\n",
      "1563/1563 [==============================] - 222s 142ms/step - loss: 1.6202 - accuracy: 0.4162\n",
      "Epoch 4/15\n",
      "1563/1563 [==============================] - 230s 147ms/step - loss: 1.5788 - accuracy: 0.4304\n",
      "Epoch 5/15\n",
      "1563/1563 [==============================] - 218s 139ms/step - loss: 1.5324 - accuracy: 0.4474\n",
      "Epoch 6/15\n",
      "1563/1563 [==============================] - 228s 146ms/step - loss: 1.4983 - accuracy: 0.4599\n",
      "Epoch 7/15\n",
      "1563/1563 [==============================] - 221s 141ms/step - loss: 1.4694 - accuracy: 0.4710\n",
      "Epoch 8/15\n",
      "1563/1563 [==============================] - 217s 139ms/step - loss: 1.4443 - accuracy: 0.4776\n",
      "Epoch 9/15\n",
      "1563/1563 [==============================] - 222s 142ms/step - loss: 1.4153 - accuracy: 0.4894\n",
      "Epoch 10/15\n",
      "1563/1563 [==============================] - 220s 141ms/step - loss: 1.3915 - accuracy: 0.5002\n",
      "Epoch 11/15\n",
      "1563/1563 [==============================] - 232s 148ms/step - loss: 1.3715 - accuracy: 0.5060\n",
      "Epoch 12/15\n",
      "1563/1563 [==============================] - 219s 140ms/step - loss: 1.3502 - accuracy: 0.5102\n",
      "Epoch 13/15\n",
      "1563/1563 [==============================] - 216s 138ms/step - loss: 1.3253 - accuracy: 0.5208\n",
      "Epoch 14/15\n",
      "1563/1563 [==============================] - 214s 137ms/step - loss: 1.3073 - accuracy: 0.5273\n",
      "Epoch 15/15\n",
      "1563/1563 [==============================] - 213s 136ms/step - loss: 1.2832 - accuracy: 0.5364\n"
     ]
    },
    {
     "data": {
      "text/plain": [
       "<keras.callbacks.History at 0x24f0c300df0>"
      ]
     },
     "execution_count": 50,
     "metadata": {},
     "output_type": "execute_result"
    }
   ],
   "source": [
    "model = keras.Sequential([\n",
    "    keras.layers.Flatten(input_shape=(32,32,3)),\n",
    "    keras.layers.Dense(2500, activation='relu'),\n",
    "    keras.layers.Dense(1500, activation='relu'),\n",
    "    keras.layers.Dense(750, activation='relu'),\n",
    "    keras.layers.Dense(10, activation='sigmoid')\n",
    "])\n",
    "\n",
    "model.compile(\n",
    "    optimizer='adam',\n",
    "    loss='categorical_crossentropy',\n",
    "    metrics=['accuracy']\n",
    ")\n",
    "model.fit(scaled_x_train, categorical_y_train, epochs=15)"
   ]
  },
  {
   "cell_type": "code",
   "execution_count": 51,
   "metadata": {},
   "outputs": [
    {
     "name": "stdout",
     "output_type": "stream",
     "text": [
      "313/313 [==============================] - 9s 28ms/step - loss: 1.5152 - accuracy: 0.4760\n"
     ]
    },
    {
     "data": {
      "text/plain": [
       "[1.5151996612548828, 0.47600001096725464]"
      ]
     },
     "execution_count": 51,
     "metadata": {},
     "output_type": "execute_result"
    }
   ],
   "source": [
    "model.evaluate(scaled_x_test,categorical_y_test)"
   ]
  },
  {
   "cell_type": "code",
   "execution_count": 52,
   "metadata": {},
   "outputs": [
    {
     "data": {
      "text/plain": [
       "array([[[0.61960784, 0.43921569, 0.19215686],\n",
       "        [0.62352941, 0.43529412, 0.18431373],\n",
       "        [0.64705882, 0.45490196, 0.2       ],\n",
       "        ...,\n",
       "        [0.5372549 , 0.37254902, 0.14117647],\n",
       "        [0.49411765, 0.35686275, 0.14117647],\n",
       "        [0.45490196, 0.33333333, 0.12941176]],\n",
       "\n",
       "       [[0.59607843, 0.43921569, 0.2       ],\n",
       "        [0.59215686, 0.43137255, 0.15686275],\n",
       "        [0.62352941, 0.44705882, 0.17647059],\n",
       "        ...,\n",
       "        [0.53333333, 0.37254902, 0.12156863],\n",
       "        [0.49019608, 0.35686275, 0.1254902 ],\n",
       "        [0.46666667, 0.34509804, 0.13333333]],\n",
       "\n",
       "       [[0.59215686, 0.43137255, 0.18431373],\n",
       "        [0.59215686, 0.42745098, 0.12941176],\n",
       "        [0.61960784, 0.43529412, 0.14117647],\n",
       "        ...,\n",
       "        [0.54509804, 0.38431373, 0.13333333],\n",
       "        [0.50980392, 0.37254902, 0.13333333],\n",
       "        [0.47058824, 0.34901961, 0.12941176]],\n",
       "\n",
       "       ...,\n",
       "\n",
       "       [[0.26666667, 0.48627451, 0.69411765],\n",
       "        [0.16470588, 0.39215686, 0.58039216],\n",
       "        [0.12156863, 0.34509804, 0.5372549 ],\n",
       "        ...,\n",
       "        [0.14901961, 0.38039216, 0.57254902],\n",
       "        [0.05098039, 0.25098039, 0.42352941],\n",
       "        [0.15686275, 0.33333333, 0.49803922]],\n",
       "\n",
       "       [[0.23921569, 0.45490196, 0.65882353],\n",
       "        [0.19215686, 0.4       , 0.58039216],\n",
       "        [0.1372549 , 0.33333333, 0.51764706],\n",
       "        ...,\n",
       "        [0.10196078, 0.32156863, 0.50980392],\n",
       "        [0.11372549, 0.32156863, 0.49411765],\n",
       "        [0.07843137, 0.25098039, 0.41960784]],\n",
       "\n",
       "       [[0.21176471, 0.41960784, 0.62745098],\n",
       "        [0.21960784, 0.41176471, 0.58431373],\n",
       "        [0.17647059, 0.34901961, 0.51764706],\n",
       "        ...,\n",
       "        [0.09411765, 0.30196078, 0.48627451],\n",
       "        [0.13333333, 0.32941176, 0.50588235],\n",
       "        [0.08235294, 0.2627451 , 0.43137255]]])"
      ]
     },
     "execution_count": 52,
     "metadata": {},
     "output_type": "execute_result"
    }
   ],
   "source": [
    "scaled_x_test[0]"
   ]
  },
  {
   "cell_type": "code",
   "execution_count": 53,
   "metadata": {},
   "outputs": [
    {
     "data": {
      "text/plain": [
       "(32, 32, 3)"
      ]
     },
     "execution_count": 53,
     "metadata": {},
     "output_type": "execute_result"
    }
   ],
   "source": [
    "scaled_x_test[0].shape"
   ]
  },
  {
   "cell_type": "code",
   "execution_count": 54,
   "metadata": {},
   "outputs": [
    {
     "name": "stdout",
     "output_type": "stream",
     "text": [
      "313/313 [==============================] - 9s 28ms/step\n"
     ]
    },
    {
     "data": {
      "text/plain": [
       "'cat'"
      ]
     },
     "execution_count": 54,
     "metadata": {},
     "output_type": "execute_result"
    }
   ],
   "source": [
    "class_name[np.argmax(model.predict(scaled_x_test)[0])]"
   ]
  },
  {
   "cell_type": "code",
   "execution_count": 55,
   "metadata": {},
   "outputs": [
    {
     "data": {
      "text/plain": [
       "'cat'"
      ]
     },
     "execution_count": 55,
     "metadata": {},
     "output_type": "execute_result"
    }
   ],
   "source": [
    "class_name[y_test[0][0]]"
   ]
  },
  {
   "cell_type": "code",
   "execution_count": 1,
   "metadata": {},
   "outputs": [
    {
     "ename": "NameError",
     "evalue": "name 'y_test' is not defined",
     "output_type": "error",
     "traceback": [
      "\u001b[1;31m---------------------------------------------------------------------------\u001b[0m",
      "\u001b[1;31mNameError\u001b[0m                                 Traceback (most recent call last)",
      "\u001b[1;32mc:\\Users\\gagan\\OneDrive\\Desktop\\VS_code\\03_ANN_CIFAR10.ipynb Cell 21\u001b[0m in \u001b[0;36m<cell line: 4>\u001b[1;34m()\u001b[0m\n\u001b[0;32m      <a href='vscode-notebook-cell:/c%3A/Users/gagan/OneDrive/Desktop/VS_code/03_ANN_CIFAR10.ipynb#ch0000020?line=0'>1</a>\u001b[0m \u001b[39m# Checking a random sample\u001b[39;00m\n\u001b[0;32m      <a href='vscode-notebook-cell:/c%3A/Users/gagan/OneDrive/Desktop/VS_code/03_ANN_CIFAR10.ipynb#ch0000020?line=2'>3</a>\u001b[0m \u001b[39mimport\u001b[39;00m \u001b[39mrandom\u001b[39;00m\n\u001b[1;32m----> <a href='vscode-notebook-cell:/c%3A/Users/gagan/OneDrive/Desktop/VS_code/03_ANN_CIFAR10.ipynb#ch0000020?line=3'>4</a>\u001b[0m i \u001b[39m=\u001b[39m random\u001b[39m.\u001b[39mrandint(\u001b[39m0\u001b[39m, \u001b[39mlen\u001b[39m(y_test))\n\u001b[0;32m      <a href='vscode-notebook-cell:/c%3A/Users/gagan/OneDrive/Desktop/VS_code/03_ANN_CIFAR10.ipynb#ch0000020?line=4'>5</a>\u001b[0m \u001b[39mprint\u001b[39m(i)\n\u001b[0;32m      <a href='vscode-notebook-cell:/c%3A/Users/gagan/OneDrive/Desktop/VS_code/03_ANN_CIFAR10.ipynb#ch0000020?line=5'>6</a>\u001b[0m plt\u001b[39m.\u001b[39mmatshow(x_test[i])\n",
      "\u001b[1;31mNameError\u001b[0m: name 'y_test' is not defined"
     ]
    }
   ],
   "source": [
    "# Checking a random sample\n",
    "\n",
    "import random\n",
    "i = random.randint(0, len(y_test))\n",
    "print(i)\n",
    "plt.matshow(x_test[i])\n",
    "print(\"Predicted class: \",class_name[np.argmax(model.predict(scaled_x_test)[i])])\n",
    "print(\"Actual class: \",class_name[y_test[i][0]])"
   ]
  },
  {
   "cell_type": "code",
   "execution_count": null,
   "metadata": {},
   "outputs": [],
   "source": []
  }
 ],
 "metadata": {
  "kernelspec": {
   "display_name": "Python 3.9.0 64-bit",
   "language": "python",
   "name": "python3"
  },
  "language_info": {
   "codemirror_mode": {
    "name": "ipython",
    "version": 3
   },
   "file_extension": ".py",
   "mimetype": "text/x-python",
   "name": "python",
   "nbconvert_exporter": "python",
   "pygments_lexer": "ipython3",
   "version": "3.9.0"
  },
  "orig_nbformat": 4,
  "vscode": {
   "interpreter": {
    "hash": "5b3baee9e35d4db22f6d5a2f20af5cc213f37b770f0c2f6a6a9db9c386166091"
   }
  }
 },
 "nbformat": 4,
 "nbformat_minor": 2
}
