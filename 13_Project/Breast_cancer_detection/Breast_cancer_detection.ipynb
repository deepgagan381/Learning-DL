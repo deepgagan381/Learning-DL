{
  "cells": [
    {
      "cell_type": "code",
      "execution_count": 1,
      "metadata": {
        "id": "gIJiufbX4Qss"
      },
      "outputs": [],
      "source": [
        "import numpy as np\n",
        "import pandas as pd\n",
        "import tensorflow as tf\n",
        "from tensorflow.keras import datasets, layers, models\n",
        "import matplotlib.pyplot as plt"
      ]
    },
    {
      "cell_type": "code",
      "execution_count": 2,
      "metadata": {
        "id": "JvgV-xkgJ9sh"
      },
      "outputs": [],
      "source": [
        "x_train = np.load(\"./X_train.npy\")\n",
        "y_train = np.load(\"./Y_train.npy\")\n",
        "x_test = np.load(\"./X_test.npy\")"
      ]
    },
    {
      "cell_type": "code",
      "execution_count": 3,
      "metadata": {
        "colab": {
          "base_uri": "https://localhost:8080/"
        },
        "id": "iuc16bCDKbje",
        "outputId": "ec4f5755-13c0-48af-d608-2a2c9c68c816"
      },
      "outputs": [
        {
          "data": {
            "text/plain": [
              "(4160, 50, 50, 3)"
            ]
          },
          "execution_count": 3,
          "metadata": {},
          "output_type": "execute_result"
        }
      ],
      "source": [
        "x_train.shape"
      ]
    },
    {
      "cell_type": "code",
      "execution_count": 10,
      "metadata": {
        "colab": {
          "base_uri": "https://localhost:8080/"
        },
        "id": "OOo8PSiihewV",
        "outputId": "924b38b2-4187-4158-8291-8156b8b81cbc"
      },
      "outputs": [
        {
          "data": {
            "text/plain": [
              "array([[[246., 245., 243.],\n",
              "        [246., 244., 248.],\n",
              "        [246., 245., 244.],\n",
              "        ...,\n",
              "        [229., 154., 182.],\n",
              "        [231., 148., 179.],\n",
              "        [228., 159., 184.]],\n",
              "\n",
              "       [[245., 246., 246.],\n",
              "        [246., 242., 244.],\n",
              "        [248., 244., 247.],\n",
              "        ...,\n",
              "        [233., 156., 180.],\n",
              "        [230., 175., 193.],\n",
              "        [229., 187., 207.]],\n",
              "\n",
              "       [[248., 243., 245.],\n",
              "        [246., 244., 245.],\n",
              "        [247., 244., 244.],\n",
              "        ...,\n",
              "        [221., 150., 181.],\n",
              "        [228., 150., 181.],\n",
              "        [201., 152., 182.]],\n",
              "\n",
              "       ...,\n",
              "\n",
              "       [[246., 242., 245.],\n",
              "        [228., 212., 225.],\n",
              "        [218., 181., 208.],\n",
              "        ...,\n",
              "        [211., 168., 191.],\n",
              "        [227., 175., 199.],\n",
              "        [218., 166., 192.]],\n",
              "\n",
              "       [[246., 244., 246.],\n",
              "        [231., 212., 225.],\n",
              "        [245., 242., 244.],\n",
              "        ...,\n",
              "        [195., 158., 190.],\n",
              "        [223., 182., 204.],\n",
              "        [218., 171., 200.]],\n",
              "\n",
              "       [[242., 236., 241.],\n",
              "        [244., 238., 239.],\n",
              "        [242., 242., 243.],\n",
              "        ...,\n",
              "        [159., 113., 157.],\n",
              "        [202., 156., 188.],\n",
              "        [218., 177., 202.]]], dtype=float32)"
            ]
          },
          "execution_count": 10,
          "metadata": {},
          "output_type": "execute_result"
        }
      ],
      "source": [
        "x_train[0]"
      ]
    },
    {
      "cell_type": "code",
      "execution_count": 5,
      "metadata": {
        "colab": {
          "base_uri": "https://localhost:8080/"
        },
        "id": "UcDZjHlyNZtt",
        "outputId": "4034e9d9-f1f6-4427-90dd-16fb70468054"
      },
      "outputs": [
        {
          "data": {
            "text/plain": [
              "(4160,)"
            ]
          },
          "execution_count": 5,
          "metadata": {},
          "output_type": "execute_result"
        }
      ],
      "source": [
        "y_train.shape"
      ]
    },
    {
      "cell_type": "code",
      "execution_count": 6,
      "metadata": {
        "colab": {
          "base_uri": "https://localhost:8080/"
        },
        "id": "jWSxhpI_NcUF",
        "outputId": "6149ae91-ab79-4c12-ade8-810efdbe7b10"
      },
      "outputs": [
        {
          "data": {
            "text/plain": [
              "array([1, 0, 0, ..., 0, 0, 0], dtype=int64)"
            ]
          },
          "execution_count": 6,
          "metadata": {},
          "output_type": "execute_result"
        }
      ],
      "source": [
        "y_train"
      ]
    },
    {
      "cell_type": "code",
      "execution_count": 19,
      "metadata": {},
      "outputs": [
        {
          "data": {
            "text/plain": [
              "<matplotlib.image.AxesImage at 0x285b1d193f0>"
            ]
          },
          "execution_count": 19,
          "metadata": {},
          "output_type": "execute_result"
        },
        {
          "data": {
            "image/png": "[encoded data removed]",
            "text/plain": [
              "<Figure size 200x200 with 1 Axes>"
            ]
          },
          "metadata": {},
          "output_type": "display_data"
        }
      ],
      "source": [
        "plt.figure(figsize=(2,2))\n",
        "plt.imshow(x_train[0]/255)"
      ]
    },
    {
      "cell_type": "code",
      "execution_count": 20,
      "metadata": {},
      "outputs": [
        {
          "data": {
            "text/plain": [
              "1"
            ]
          },
          "execution_count": 20,
          "metadata": {},
          "output_type": "execute_result"
        }
      ],
      "source": [
        "y_train[0]"
      ]
    },
    {
      "cell_type": "code",
      "execution_count": 21,
      "metadata": {},
      "outputs": [
        {
          "data": {
            "text/plain": [
              "<matplotlib.image.AxesImage at 0x285b1d67d00>"
            ]
          },
          "execution_count": 21,
          "metadata": {},
          "output_type": "execute_result"
        },
        {
          "data": {
            "image/png": "[encoded data removed]",
            "text/plain": [
              "<Figure size 200x200 with 1 Axes>"
            ]
          },
          "metadata": {},
          "output_type": "display_data"
        }
      ],
      "source": [
        "plt.figure(figsize=(2,2))\n",
        "plt.imshow(x_train[1]/255)"
      ]
    },
    {
      "cell_type": "code",
      "execution_count": 22,
      "metadata": {},
      "outputs": [
        {
          "data": {
            "text/plain": [
              "0"
            ]
          },
          "execution_count": 22,
          "metadata": {},
          "output_type": "execute_result"
        }
      ],
      "source": [
        "y_train[1]"
      ]
    },
    {
      "cell_type": "code",
      "execution_count": 23,
      "metadata": {
        "id": "jHJVGXinXCEy"
      },
      "outputs": [],
      "source": [
        "#normalization of data\n",
        "x_train=x_train / 255\n",
        "x_test = x_test / 255"
      ]
    },
    {
      "cell_type": "code",
      "execution_count": 24,
      "metadata": {
        "colab": {
          "base_uri": "https://localhost:8080/"
        },
        "id": "3cv4pfEdagae",
        "outputId": "6dcd0379-cd6e-40a9-ff0c-2e2f51b3426b"
      },
      "outputs": [
        {
          "name": "stdout",
          "output_type": "stream",
          "text": [
            "Epoch 1/20\n",
            "130/130 [==============================] - 12s 83ms/step - loss: 0.6684 - accuracy: 0.6031\n",
            "Epoch 2/20\n",
            "130/130 [==============================] - 11s 86ms/step - loss: 0.5857 - accuracy: 0.7017\n",
            "Epoch 3/20\n",
            "130/130 [==============================] - 11s 83ms/step - loss: 0.5422 - accuracy: 0.7341\n",
            "Epoch 4/20\n",
            "130/130 [==============================] - 11s 83ms/step - loss: 0.5225 - accuracy: 0.7474\n",
            "Epoch 5/20\n",
            "130/130 [==============================] - 11s 88ms/step - loss: 0.5181 - accuracy: 0.7481\n",
            "Epoch 6/20\n",
            "130/130 [==============================] - 10s 79ms/step - loss: 0.4988 - accuracy: 0.7661\n",
            "Epoch 7/20\n",
            "130/130 [==============================] - 11s 86ms/step - loss: 0.4983 - accuracy: 0.7702\n",
            "Epoch 8/20\n",
            "130/130 [==============================] - 12s 89ms/step - loss: 0.5046 - accuracy: 0.7651\n",
            "Epoch 9/20\n",
            "130/130 [==============================] - 12s 88ms/step - loss: 0.4847 - accuracy: 0.7743\n",
            "Epoch 10/20\n",
            "130/130 [==============================] - 12s 89ms/step - loss: 0.4659 - accuracy: 0.7901\n",
            "Epoch 11/20\n",
            "130/130 [==============================] - 11s 89ms/step - loss: 0.4703 - accuracy: 0.7894\n",
            "Epoch 12/20\n",
            "130/130 [==============================] - 12s 92ms/step - loss: 0.4439 - accuracy: 0.7954\n",
            "Epoch 13/20\n",
            "130/130 [==============================] - 12s 95ms/step - loss: 0.4425 - accuracy: 0.7981\n",
            "Epoch 14/20\n",
            "130/130 [==============================] - 12s 93ms/step - loss: 0.4215 - accuracy: 0.8180\n",
            "Epoch 15/20\n",
            "130/130 [==============================] - 11s 85ms/step - loss: 0.4038 - accuracy: 0.8195\n",
            "Epoch 16/20\n",
            "130/130 [==============================] - 12s 91ms/step - loss: 0.3955 - accuracy: 0.8221\n",
            "Epoch 17/20\n",
            "130/130 [==============================] - 12s 91ms/step - loss: 0.3616 - accuracy: 0.8370\n",
            "Epoch 18/20\n",
            "130/130 [==============================] - 11s 87ms/step - loss: 0.3511 - accuracy: 0.8425\n",
            "Epoch 19/20\n",
            "130/130 [==============================] - 11s 83ms/step - loss: 0.3300 - accuracy: 0.8599\n",
            "Epoch 20/20\n",
            "130/130 [==============================] - 11s 87ms/step - loss: 0.2831 - accuracy: 0.8834\n"
          ]
        },
        {
          "data": {
            "text/plain": [
              "<keras.callbacks.History at 0x285aad30880>"
            ]
          },
          "execution_count": 24,
          "metadata": {},
          "output_type": "execute_result"
        }
      ],
      "source": [
        " #CNN model using tensorflow library\n",
        " cnn = models.Sequential([\n",
        "    layers.Conv2D(filters = 32, kernel_size=(3,3), activation ='relu', input_shape=(50,50,3)),\n",
        "    layers.MaxPooling2D((2,2)),\n",
        "\n",
        "    layers.Conv2D(filters = 64, kernel_size=(3,3), activation ='relu'),\n",
        "    layers.MaxPooling2D((2,2)),\n",
        "\n",
        "     layers.Flatten(),\n",
        "     layers.Dense(64, activation = 'relu'),\n",
        "     layers.Dense(2, activation = 'softmax')\n",
        "    ])\n",
        " \n",
        "cnn.compile(optimizer = 'adam',\n",
        "            loss = 'sparse_categorical_crossentropy',\n",
        "            metrics = ['accuracy'])\n",
        "\n",
        "cnn.fit(x_train, y_train, epochs = 20)\n",
        "\n"
      ]
    },
    {
      "cell_type": "code",
      "execution_count": 25,
      "metadata": {
        "colab": {
          "base_uri": "https://localhost:8080/"
        },
        "id": "Tve6lJj-ruKo",
        "outputId": "306da0a6-a4d6-4bf6-b563-213d0c3cff6b"
      },
      "outputs": [
        {
          "name": "stdout",
          "output_type": "stream",
          "text": [
            "Model: \"sequential\"\n",
            "_________________________________________________________________\n",
            " Layer (type)                Output Shape              Param #   \n",
            "=================================================================\n",
            " conv2d (Conv2D)             (None, 48, 48, 32)        896       \n",
            "                                                                 \n",
            " max_pooling2d (MaxPooling2D  (None, 24, 24, 32)       0         \n",
            " )                                                               \n",
            "                                                                 \n",
            " conv2d_1 (Conv2D)           (None, 22, 22, 64)        18496     \n",
            "                                                                 \n",
            " max_pooling2d_1 (MaxPooling  (None, 11, 11, 64)       0         \n",
            " 2D)                                                             \n",
            "                                                                 \n",
            " flatten (Flatten)           (None, 7744)              0         \n",
            "                                                                 \n",
            " dense (Dense)               (None, 64)                495680    \n",
            "                                                                 \n",
            " dense_1 (Dense)             (None, 2)                 130       \n",
            "                                                                 \n",
            "=================================================================\n",
            "Total params: 515,202\n",
            "Trainable params: 515,202\n",
            "Non-trainable params: 0\n",
            "_________________________________________________________________\n"
          ]
        }
      ],
      "source": [
        "cnn.summary()"
      ]
    },
    {
      "cell_type": "code",
      "execution_count": 26,
      "metadata": {
        "colab": {
          "base_uri": "https://localhost:8080/"
        },
        "id": "QSJ7Oi6CkPBQ",
        "outputId": "5a97df1b-d686-470b-ce54-1e0053a67396"
      },
      "outputs": [
        {
          "data": {
            "text/plain": [
              "(1387, 50, 50, 3)"
            ]
          },
          "execution_count": 26,
          "metadata": {},
          "output_type": "execute_result"
        }
      ],
      "source": [
        "x_test.shape"
      ]
    },
    {
      "cell_type": "code",
      "execution_count": 27,
      "metadata": {
        "colab": {
          "base_uri": "https://localhost:8080/"
        },
        "id": "_5n9FJLKjzD4",
        "outputId": "d249dafd-ebe8-4eb2-f977-9b5d46fa6e2b"
      },
      "outputs": [
        {
          "name": "stdout",
          "output_type": "stream",
          "text": [
            "44/44 [==============================] - 1s 19ms/step\n"
          ]
        },
        {
          "data": {
            "text/plain": [
              "array([[0.9970853 , 0.00291469],\n",
              "       [0.4105583 , 0.5894417 ],\n",
              "       [0.3186476 , 0.68135244],\n",
              "       ...,\n",
              "       [0.9923471 , 0.00765289],\n",
              "       [0.90371615, 0.09628379],\n",
              "       [0.0239268 , 0.97607315]], dtype=float32)"
            ]
          },
          "execution_count": 27,
          "metadata": {},
          "output_type": "execute_result"
        }
      ],
      "source": [
        "y_pred = cnn.predict(x_test)\n",
        "y_pred"
      ]
    },
    {
      "cell_type": "code",
      "execution_count": 28,
      "metadata": {
        "id": "cG01BCawk0Z3"
      },
      "outputs": [],
      "source": [
        "y_classes = [np.argmax(element) for element in y_pred]"
      ]
    },
    {
      "cell_type": "code",
      "execution_count": 29,
      "metadata": {
        "colab": {
          "base_uri": "https://localhost:8080/"
        },
        "id": "5MoFPRUwm_A2",
        "outputId": "052ce067-066b-429e-f820-8c81e81421c9"
      },
      "outputs": [
        {
          "name": "stdout",
          "output_type": "stream",
          "text": [
            "588 799 1387\n"
          ]
        }
      ],
      "source": [
        "yes = 0\n",
        "no = 0\n",
        "for element in y_classes:\n",
        "    if (element == 1):\n",
        "        yes+=1\n",
        "    else:\n",
        "        no+=1\n",
        "print(yes, no, yes + no)"
      ]
    },
    {
      "cell_type": "code",
      "execution_count": 30,
      "metadata": {
        "colab": {
          "base_uri": "https://localhost:8080/"
        },
        "id": "5ZSI0-n5xxEC",
        "outputId": "eabe51e2-8c34-4ee5-ffec-00a8b5f64908"
      },
      "outputs": [
        {
          "name": "stdout",
          "output_type": "stream",
          "text": [
            "130/130 [==============================] - 3s 24ms/step\n",
            "1888 2272 4160\n"
          ]
        }
      ],
      "source": [
        "#checking for the train data set for validation\n",
        "y_pred2 = cnn.predict(x_train)\n",
        "y_classes2 = [np.argmax(element) for element in y_pred2]\n",
        "yes2 = 0\n",
        "no2 = 0\n",
        "for element in y_classes2:\n",
        "    if (element ==1):\n",
        "        yes2+=1\n",
        "    else:\n",
        "        no2+=1\n",
        "print(yes2, no2, yes2 + no2)"
      ]
    },
    {
      "cell_type": "code",
      "execution_count": 32,
      "metadata": {
        "id": "dgaAqBKBe6kv"
      },
      "outputs": [],
      "source": [
        "DF = pd.DataFrame(y_classes)\n",
        "DF.to_csv(\"output.csv\")"
      ]
    }
  ],
  "metadata": {
    "colab": {
      "collapsed_sections": [],
      "name": "MateRate.ipynb",
      "provenance": []
    },
    "kernelspec": {
      "display_name": "Python 3",
      "language": "python",
      "name": "python3"
    },
    "language_info": {
      "codemirror_mode": {
        "name": "ipython",
        "version": 3
      },
      "file_extension": ".py",
      "mimetype": "text/x-python",
      "name": "python",
      "nbconvert_exporter": "python",
      "pygments_lexer": "ipython3",
      "version": "3.10.9"
    },
    "vscode": {
      "interpreter": {
        "hash": "afdc86c72e07aac22ce05607dc8b410f6c42a07b03f768160006ceb67cd8b25c"
      }
    }
  },
  "nbformat": 4,
  "nbformat_minor": 0
}
